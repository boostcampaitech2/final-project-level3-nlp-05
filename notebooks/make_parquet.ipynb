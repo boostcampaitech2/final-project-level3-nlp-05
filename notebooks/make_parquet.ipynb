{
 "cells": [
  {
   "cell_type": "markdown",
   "metadata": {},
   "source": [
    "# json -> pd.DataFrame -> arrow"
   ]
  },
  {
   "cell_type": "code",
   "execution_count": 2,
   "metadata": {},
   "outputs": [],
   "source": [
    "import json\n",
    "import pandas as pd\n",
    "from typing import List\n",
    "import pyarrow as pa\n",
    "import pyarrow.parquet as pq"
   ]
  },
  {
   "cell_type": "markdown",
   "metadata": {},
   "source": [
    "## 1) json -> pd.DataFrame"
   ]
  },
  {
   "cell_type": "markdown",
   "metadata": {},
   "source": [
    "원본 파일에서 \"documents\" 정보만 빼와서 새로운 파일로 저장"
   ]
  },
  {
   "cell_type": "code",
   "execution_count": 1,
   "metadata": {},
   "outputs": [],
   "source": [
    "with open(\"/opt/ml/dataset/Training/train_original.json\", \"r\") as f:  # ai hub 신문기사 json 파일\n",
    "    data = json.load(f)\n",
    "    data = data[\"documents\"]\n",
    "\n",
    "with open(\"/opt/ml/dataset/Training/train.json\", \"w\") as f:  # 새로 저장\n",
    "    json.dump(data, f, indent=4, ensure_ascii=False)  # 한글이라 ensure_ascii=False"
   ]
  },
  {
   "cell_type": "code",
   "execution_count": 4,
   "metadata": {},
   "outputs": [
    {
     "data": {
      "text/html": [
       "<div>\n",
       "<style scoped>\n",
       "    .dataframe tbody tr th:only-of-type {\n",
       "        vertical-align: middle;\n",
       "    }\n",
       "\n",
       "    .dataframe tbody tr th {\n",
       "        vertical-align: top;\n",
       "    }\n",
       "\n",
       "    .dataframe thead th {\n",
       "        text-align: right;\n",
       "    }\n",
       "</style>\n",
       "<table border=\"1\" class=\"dataframe\">\n",
       "  <thead>\n",
       "    <tr style=\"text-align: right;\">\n",
       "      <th></th>\n",
       "      <th>id</th>\n",
       "      <th>category</th>\n",
       "      <th>media_type</th>\n",
       "      <th>media_sub_type</th>\n",
       "      <th>media_name</th>\n",
       "      <th>size</th>\n",
       "      <th>char_count</th>\n",
       "      <th>publish_date</th>\n",
       "      <th>title</th>\n",
       "      <th>text</th>\n",
       "      <th>annotator_id</th>\n",
       "      <th>document_quality_scores</th>\n",
       "      <th>extractive</th>\n",
       "      <th>abstractive</th>\n",
       "    </tr>\n",
       "  </thead>\n",
       "  <tbody>\n",
       "    <tr>\n",
       "      <th>0</th>\n",
       "      <td>290741778</td>\n",
       "      <td>종합</td>\n",
       "      <td>online</td>\n",
       "      <td>지역지</td>\n",
       "      <td>광양신문</td>\n",
       "      <td>small</td>\n",
       "      <td>927</td>\n",
       "      <td>2018-01-05 18:54:55</td>\n",
       "      <td>논 타작물 재배, 2월 말까지 신청하세요</td>\n",
       "      <td>[[{'index': 0, 'sentence': 'ha당 조사료 400만원…작물별 ...</td>\n",
       "      <td>11</td>\n",
       "      <td>{'readable': 4, 'accurate': 3, 'informative': ...</td>\n",
       "      <td>[2, 3, 10]</td>\n",
       "      <td>[전라남도가 쌀 과잉문제를 근본적으로 해결하기 위해 올해부터 벼를 심었던 논에 벼 ...</td>\n",
       "    </tr>\n",
       "    <tr>\n",
       "      <th>1</th>\n",
       "      <td>290741792</td>\n",
       "      <td>종합</td>\n",
       "      <td>online</td>\n",
       "      <td>지역지</td>\n",
       "      <td>광양신문</td>\n",
       "      <td>small</td>\n",
       "      <td>764</td>\n",
       "      <td>2018-01-05 18:53:20</td>\n",
       "      <td>여수시, 컬러빌리지 마무리...‘색채와 빛’도시 완성</td>\n",
       "      <td>[[{'index': 0, 'sentence': '8억 투입, 고소천사벽화·자산마을...</td>\n",
       "      <td>12</td>\n",
       "      <td>{'readable': 4, 'accurate': 4, 'informative': ...</td>\n",
       "      <td>[2, 4, 11]</td>\n",
       "      <td>[여수시는 컬러빌리지 사업에 8억원을 투입하여 ‘색채와 빛’ 도시를 완성하여 고소천...</td>\n",
       "    </tr>\n",
       "    <tr>\n",
       "      <th>2</th>\n",
       "      <td>290741793</td>\n",
       "      <td>스포츠</td>\n",
       "      <td>online</td>\n",
       "      <td>지역지</td>\n",
       "      <td>광양신문</td>\n",
       "      <td>medium</td>\n",
       "      <td>1066</td>\n",
       "      <td>2018-01-05 18:52:15</td>\n",
       "      <td>“새해 정기 받고 올해는 반드시 일내자!”</td>\n",
       "      <td>[[{'index': 0, 'sentence': '전남드래곤즈 해맞이 다짐…선수 영...</td>\n",
       "      <td>13</td>\n",
       "      <td>{'readable': 4, 'accurate': 4, 'informative': ...</td>\n",
       "      <td>[3, 5, 7]</td>\n",
       "      <td>[전남드래곤즈 임직원과 선수단이 4일 구봉산 정상에 올라 일출을 보며 2018년 구...</td>\n",
       "    </tr>\n",
       "    <tr>\n",
       "      <th>3</th>\n",
       "      <td>290741794</td>\n",
       "      <td>정치</td>\n",
       "      <td>online</td>\n",
       "      <td>지역지</td>\n",
       "      <td>광양신문</td>\n",
       "      <td>small</td>\n",
       "      <td>746</td>\n",
       "      <td>2018-01-05 18:50:17</td>\n",
       "      <td>농업인 역량 강화, 새해 실용교육 실시</td>\n",
       "      <td>[[{'index': 0, 'sentence': '11~24일, 매실·감·참다래 등...</td>\n",
       "      <td>12</td>\n",
       "      <td>{'readable': 4, 'accurate': 4, 'informative': ...</td>\n",
       "      <td>[2, 3, 4]</td>\n",
       "      <td>[광양시는 농업인들의 경쟁력을 높이고, 소득안정을 위해 매실·감·참다래 등 지역특화...</td>\n",
       "    </tr>\n",
       "    <tr>\n",
       "      <th>4</th>\n",
       "      <td>290741797</td>\n",
       "      <td>종합</td>\n",
       "      <td>online</td>\n",
       "      <td>지역지</td>\n",
       "      <td>광양신문</td>\n",
       "      <td>small</td>\n",
       "      <td>978</td>\n",
       "      <td>2018-01-05 18:52:36</td>\n",
       "      <td>타이완 크루즈관광객 4천여명‘전남’온다</td>\n",
       "      <td>[[{'index': 0, 'sentence': '홍콩 크루즈선사‘아쿠아리우스’ 4...</td>\n",
       "      <td>13</td>\n",
       "      <td>{'readable': 4, 'accurate': 4, 'informative': ...</td>\n",
       "      <td>[3, 7, 4]</td>\n",
       "      <td>[올해 4월과 6월 두 차례에 걸쳐 타이완의 크루즈 관광객 4000여명이 여수에 입...</td>\n",
       "    </tr>\n",
       "  </tbody>\n",
       "</table>\n",
       "</div>"
      ],
      "text/plain": [
       "          id category media_type media_sub_type media_name    size  \\\n",
       "0  290741778       종합     online            지역지       광양신문   small   \n",
       "1  290741792       종합     online            지역지       광양신문   small   \n",
       "2  290741793      스포츠     online            지역지       광양신문  medium   \n",
       "3  290741794       정치     online            지역지       광양신문   small   \n",
       "4  290741797       종합     online            지역지       광양신문   small   \n",
       "\n",
       "   char_count         publish_date                          title  \\\n",
       "0         927  2018-01-05 18:54:55         논 타작물 재배, 2월 말까지 신청하세요   \n",
       "1         764  2018-01-05 18:53:20  여수시, 컬러빌리지 마무리...‘색채와 빛’도시 완성   \n",
       "2        1066  2018-01-05 18:52:15        “새해 정기 받고 올해는 반드시 일내자!”   \n",
       "3         746  2018-01-05 18:50:17          농업인 역량 강화, 새해 실용교육 실시   \n",
       "4         978  2018-01-05 18:52:36          타이완 크루즈관광객 4천여명‘전남’온다   \n",
       "\n",
       "                                                text  annotator_id  \\\n",
       "0  [[{'index': 0, 'sentence': 'ha당 조사료 400만원…작물별 ...            11   \n",
       "1  [[{'index': 0, 'sentence': '8억 투입, 고소천사벽화·자산마을...            12   \n",
       "2  [[{'index': 0, 'sentence': '전남드래곤즈 해맞이 다짐…선수 영...            13   \n",
       "3  [[{'index': 0, 'sentence': '11~24일, 매실·감·참다래 등...            12   \n",
       "4  [[{'index': 0, 'sentence': '홍콩 크루즈선사‘아쿠아리우스’ 4...            13   \n",
       "\n",
       "                             document_quality_scores  extractive  \\\n",
       "0  {'readable': 4, 'accurate': 3, 'informative': ...  [2, 3, 10]   \n",
       "1  {'readable': 4, 'accurate': 4, 'informative': ...  [2, 4, 11]   \n",
       "2  {'readable': 4, 'accurate': 4, 'informative': ...   [3, 5, 7]   \n",
       "3  {'readable': 4, 'accurate': 4, 'informative': ...   [2, 3, 4]   \n",
       "4  {'readable': 4, 'accurate': 4, 'informative': ...   [3, 7, 4]   \n",
       "\n",
       "                                         abstractive  \n",
       "0  [전라남도가 쌀 과잉문제를 근본적으로 해결하기 위해 올해부터 벼를 심었던 논에 벼 ...  \n",
       "1  [여수시는 컬러빌리지 사업에 8억원을 투입하여 ‘색채와 빛’ 도시를 완성하여 고소천...  \n",
       "2  [전남드래곤즈 임직원과 선수단이 4일 구봉산 정상에 올라 일출을 보며 2018년 구...  \n",
       "3  [광양시는 농업인들의 경쟁력을 높이고, 소득안정을 위해 매실·감·참다래 등 지역특화...  \n",
       "4  [올해 4월과 6월 두 차례에 걸쳐 타이완의 크루즈 관광객 4000여명이 여수에 입...  "
      ]
     },
     "execution_count": 4,
     "metadata": {},
     "output_type": "execute_result"
    }
   ],
   "source": [
    "news_df = pd.read_json(\"/opt/ml/dataset/Training/train.json\")\n",
    "news_df.head()"
   ]
  },
  {
   "cell_type": "markdown",
   "metadata": {},
   "source": [
    "데이터 기본 정보 확인"
   ]
  },
  {
   "cell_type": "code",
   "execution_count": 25,
   "metadata": {},
   "outputs": [
    {
     "name": "stdout",
     "output_type": "stream",
     "text": [
      "<class 'pandas.core.frame.DataFrame'>\n",
      "RangeIndex: 271093 entries, 0 to 271092\n",
      "Data columns (total 14 columns):\n",
      " #   Column                   Non-Null Count   Dtype \n",
      "---  ------                   --------------   ----- \n",
      " 0   id                       271093 non-null  int64 \n",
      " 1   category                 271093 non-null  object\n",
      " 2   media_type               271093 non-null  object\n",
      " 3   media_sub_type           271093 non-null  object\n",
      " 4   media_name               271093 non-null  object\n",
      " 5   size                     271093 non-null  object\n",
      " 6   char_count               271093 non-null  int64 \n",
      " 7   publish_date             271093 non-null  object\n",
      " 8   title                    271093 non-null  object\n",
      " 9   text                     271093 non-null  object\n",
      " 10  annotator_id             271093 non-null  int64 \n",
      " 11  document_quality_scores  271093 non-null  object\n",
      " 12  extractive               271093 non-null  object\n",
      " 13  abstractive              271093 non-null  object\n",
      "dtypes: int64(3), object(11)\n",
      "memory usage: 29.0+ MB\n"
     ]
    }
   ],
   "source": [
    "news_df.info()"
   ]
  },
  {
   "cell_type": "code",
   "execution_count": 26,
   "metadata": {},
   "outputs": [
    {
     "data": {
      "text/plain": [
       "<bound method IndexOpsMixin.nunique of 0         290741778\n",
       "1         290741792\n",
       "2         290741793\n",
       "3         290741794\n",
       "4         290741797\n",
       "            ...    \n",
       "271088    340626140\n",
       "271089    340626209\n",
       "271090    340626213\n",
       "271091    340626365\n",
       "271092    340626537\n",
       "Name: id, Length: 271093, dtype: int64>"
      ]
     },
     "execution_count": 26,
     "metadata": {},
     "output_type": "execute_result"
    }
   ],
   "source": [
    "news_df[\"id\"].nunique  # 271093\n",
    "# news_df[\"title\"].nunique  # 271093\n",
    "# news_df[\"text\"].nunique  # 271093\n",
    "# news_df[\"extractive\"].unique  # 271093 - ㅇㄱㄹㅇ?\n",
    "# news_df[\"abstractive\"].nunique  # 271093"
   ]
  },
  {
   "cell_type": "code",
   "execution_count": 71,
   "metadata": {},
   "outputs": [
    {
     "data": {
      "text/html": [
       "<div>\n",
       "<style scoped>\n",
       "    .dataframe tbody tr th:only-of-type {\n",
       "        vertical-align: middle;\n",
       "    }\n",
       "\n",
       "    .dataframe tbody tr th {\n",
       "        vertical-align: top;\n",
       "    }\n",
       "\n",
       "    .dataframe thead th {\n",
       "        text-align: right;\n",
       "    }\n",
       "</style>\n",
       "<table border=\"1\" class=\"dataframe\">\n",
       "  <thead>\n",
       "    <tr style=\"text-align: right;\">\n",
       "      <th></th>\n",
       "      <th>id</th>\n",
       "      <th>char_count</th>\n",
       "      <th>title</th>\n",
       "      <th>text</th>\n",
       "      <th>extractive</th>\n",
       "      <th>abstractive</th>\n",
       "    </tr>\n",
       "  </thead>\n",
       "  <tbody>\n",
       "    <tr>\n",
       "      <th>0</th>\n",
       "      <td>290741778</td>\n",
       "      <td>927</td>\n",
       "      <td>논 타작물 재배, 2월 말까지 신청하세요</td>\n",
       "      <td>[[{'index': 0, 'sentence': 'ha당 조사료 400만원…작물별 ...</td>\n",
       "      <td>[2, 3, 10]</td>\n",
       "      <td>[전라남도가 쌀 과잉문제를 근본적으로 해결하기 위해 올해부터 벼를 심었던 논에 벼 ...</td>\n",
       "    </tr>\n",
       "    <tr>\n",
       "      <th>1</th>\n",
       "      <td>290741792</td>\n",
       "      <td>764</td>\n",
       "      <td>여수시, 컬러빌리지 마무리...‘색채와 빛’도시 완성</td>\n",
       "      <td>[[{'index': 0, 'sentence': '8억 투입, 고소천사벽화·자산마을...</td>\n",
       "      <td>[2, 4, 11]</td>\n",
       "      <td>[여수시는 컬러빌리지 사업에 8억원을 투입하여 ‘색채와 빛’ 도시를 완성하여 고소천...</td>\n",
       "    </tr>\n",
       "    <tr>\n",
       "      <th>2</th>\n",
       "      <td>290741793</td>\n",
       "      <td>1066</td>\n",
       "      <td>“새해 정기 받고 올해는 반드시 일내자!”</td>\n",
       "      <td>[[{'index': 0, 'sentence': '전남드래곤즈 해맞이 다짐…선수 영...</td>\n",
       "      <td>[3, 5, 7]</td>\n",
       "      <td>[전남드래곤즈 임직원과 선수단이 4일 구봉산 정상에 올라 일출을 보며 2018년 구...</td>\n",
       "    </tr>\n",
       "    <tr>\n",
       "      <th>3</th>\n",
       "      <td>290741794</td>\n",
       "      <td>746</td>\n",
       "      <td>농업인 역량 강화, 새해 실용교육 실시</td>\n",
       "      <td>[[{'index': 0, 'sentence': '11~24일, 매실·감·참다래 등...</td>\n",
       "      <td>[2, 3, 4]</td>\n",
       "      <td>[광양시는 농업인들의 경쟁력을 높이고, 소득안정을 위해 매실·감·참다래 등 지역특화...</td>\n",
       "    </tr>\n",
       "    <tr>\n",
       "      <th>4</th>\n",
       "      <td>290741797</td>\n",
       "      <td>978</td>\n",
       "      <td>타이완 크루즈관광객 4천여명‘전남’온다</td>\n",
       "      <td>[[{'index': 0, 'sentence': '홍콩 크루즈선사‘아쿠아리우스’ 4...</td>\n",
       "      <td>[3, 7, 4]</td>\n",
       "      <td>[올해 4월과 6월 두 차례에 걸쳐 타이완의 크루즈 관광객 4000여명이 여수에 입...</td>\n",
       "    </tr>\n",
       "  </tbody>\n",
       "</table>\n",
       "</div>"
      ],
      "text/plain": [
       "          id  char_count                          title  \\\n",
       "0  290741778         927         논 타작물 재배, 2월 말까지 신청하세요   \n",
       "1  290741792         764  여수시, 컬러빌리지 마무리...‘색채와 빛’도시 완성   \n",
       "2  290741793        1066        “새해 정기 받고 올해는 반드시 일내자!”   \n",
       "3  290741794         746          농업인 역량 강화, 새해 실용교육 실시   \n",
       "4  290741797         978          타이완 크루즈관광객 4천여명‘전남’온다   \n",
       "\n",
       "                                                text  extractive  \\\n",
       "0  [[{'index': 0, 'sentence': 'ha당 조사료 400만원…작물별 ...  [2, 3, 10]   \n",
       "1  [[{'index': 0, 'sentence': '8억 투입, 고소천사벽화·자산마을...  [2, 4, 11]   \n",
       "2  [[{'index': 0, 'sentence': '전남드래곤즈 해맞이 다짐…선수 영...   [3, 5, 7]   \n",
       "3  [[{'index': 0, 'sentence': '11~24일, 매실·감·참다래 등...   [2, 3, 4]   \n",
       "4  [[{'index': 0, 'sentence': '홍콩 크루즈선사‘아쿠아리우스’ 4...   [3, 7, 4]   \n",
       "\n",
       "                                         abstractive  \n",
       "0  [전라남도가 쌀 과잉문제를 근본적으로 해결하기 위해 올해부터 벼를 심었던 논에 벼 ...  \n",
       "1  [여수시는 컬러빌리지 사업에 8억원을 투입하여 ‘색채와 빛’ 도시를 완성하여 고소천...  \n",
       "2  [전남드래곤즈 임직원과 선수단이 4일 구봉산 정상에 올라 일출을 보며 2018년 구...  \n",
       "3  [광양시는 농업인들의 경쟁력을 높이고, 소득안정을 위해 매실·감·참다래 등 지역특화...  \n",
       "4  [올해 4월과 6월 두 차례에 걸쳐 타이완의 크루즈 관광객 4000여명이 여수에 입...  "
      ]
     },
     "execution_count": 71,
     "metadata": {},
     "output_type": "execute_result"
    }
   ],
   "source": [
    "# 필요한 정보만\n",
    "news_df_final = news_df[['id', 'char_count', 'title', 'text', 'extractive', 'abstractive']]\n",
    "news_df_final.head()"
   ]
  },
  {
   "cell_type": "markdown",
   "metadata": {},
   "source": [
    "## text 재구성"
   ]
  },
  {
   "cell_type": "markdown",
   "metadata": {},
   "source": [
    "text 예시"
   ]
  },
  {
   "cell_type": "code",
   "execution_count": 60,
   "metadata": {},
   "outputs": [
    {
     "data": {
      "text/plain": [
       "[[{'index': 0,\n",
       "   'sentence': 'ha당 조사료 400만원…작물별 차등 지원',\n",
       "   'highlight_indices': ''}],\n",
       " [{'index': 1, 'sentence': '이성훈 sinawi@hanmail.net', 'highlight_indices': ''}],\n",
       " [{'index': 2,\n",
       "   'sentence': '전라남도가 쌀 과잉문제를 근본적으로 해결하기 위해 올해부터 시행하는 쌀 생산조정제를 적극 추진키로 했다.',\n",
       "   'highlight_indices': ''}],\n",
       " [{'index': 3,\n",
       "   'sentence': '쌀 생산조정제는 벼를 심었던 논에 벼 대신 사료작물이나 콩 등 다른 작물을 심으면 벼와의 일정 소득차를 보전해주는 제도다.',\n",
       "   'highlight_indices': '35,37'}],\n",
       " [{'index': 4,\n",
       "   'sentence': '올해 전남의 논 다른 작물 재배 계획면적은 전국 5만ha의 약 21%인 1만 698ha로, 세부시행지침을 확정, 시군에 통보했다.',\n",
       "   'highlight_indices': '9,11;33,34'},\n",
       "  {'index': 5,\n",
       "   'sentence': '지원사업 대상은 2017년산 쌀 변동직불금을 받은 농지에 10a(300평) 이상 벼 이외 다른 작물을 재배한 농업인이다.',\n",
       "   'highlight_indices': '50,52'}],\n",
       " [{'index': 6,\n",
       "   'sentence': '지원 대상 작물은 1년생을 포함한 다년생의 모든 작물이 해당되나 재배 면적 확대 시 수급과잉이 우려되는 고추, 무, 배추, 인삼, 대파 등 수급 불안 품목은 제외된다.',\n",
       "   'highlight_indices': '24,26'}],\n",
       " [{'index': 7,\n",
       "   'sentence': '농지의 경우도 이미 다른 작물 재배 의무가 부여된 간척지, 정부매입비축농지, 농진청 시범사업, 경관보전 직불금 수령 농지 등은 제외될 예정이다.',\n",
       "   'highlight_indices': '8,10;11,13'}],\n",
       " [{'index': 8,\n",
       "   'sentence': 'ha(3000평)당 지원 단가는 평균 340만원으로 사료작물 400만원, 일반작물은 340만원, 콩·팥 등 두류작물은 280만원 등이다.',\n",
       "   'highlight_indices': ''},\n",
       "  {'index': 9,\n",
       "   'sentence': '벼와 소득차와 영농 편이성을 감안해 작물별로 차등 지원된다.',\n",
       "   'highlight_indices': ''}],\n",
       " [{'index': 10,\n",
       "   'sentence': '논에 다른 작물 재배를 바라는 농가는 오는 22일부터 2월 28일까지 농지 소재지 읍면동사무소에 신청해야 한다.',\n",
       "   'highlight_indices': '3,5'}],\n",
       " [{'index': 11,\n",
       "   'sentence': '전남도는 도와 시군에 관련 기관과 농가 등이 참여하는‘논 타작물 지원사업 추진협의회’를 구성, 지역 특성에 맞는 작목 선정 및 사업 심의 등을 본격 추진할 방침이다.',\n",
       "   'highlight_indices': '32,33;69,70'}],\n",
       " [{'index': 12,\n",
       "   'sentence': '최향철 전라남도 친환경농업과장은 “최근 쌀값이 다소 상승추세에 있으나 매년 공급과잉에 따른 가격 하락으로 쌀농가에 어려움이 있었다”며“쌀 공급과잉을 구조적으로 해결하도록 논 타작물 재배 지원사업에 많이 참여해주길 바란다”고 말했다.',\n",
       "   'highlight_indices': '26,28;39,41;97,98;110,112'}]]"
      ]
     },
     "execution_count": 60,
     "metadata": {},
     "output_type": "execute_result"
    }
   ],
   "source": [
    "news_df_final[\"text\"][0]  # List[List[Dict]]"
   ]
  },
  {
   "cell_type": "markdown",
   "metadata": {},
   "source": [
    "이유는 모르겠지만 중간에 빈 리스트도 껴있다."
   ]
  },
  {
   "cell_type": "code",
   "execution_count": 62,
   "metadata": {},
   "outputs": [
    {
     "data": {
      "text/plain": [
       "[[{'index': 0,\n",
       "   'sentence': '8억 투입, 고소천사벽화·자산마을에 색채 입혀',\n",
       "   'highlight_indices': ''}],\n",
       " [{'index': 1, 'sentence': '이성훈 sinawi@hanmail.net', 'highlight_indices': ''}],\n",
       " [],\n",
       " [{'index': 2,\n",
       "   'sentence': '여수시는 원도심 일대에서 추진된 컬러빌리지 사업을 지난해 말 마무리하며 색채와 빛의 도시를 완성했다.',\n",
       "   'highlight_indices': ''},\n",
       "  {'index': 3,\n",
       "   'sentence': '시에 따르면 총 사업비 8억원이 투입된 컬러빌리지 사업은‘낮에는 색채, 밤에는 빛’을 주제로 지난해 초 착공에 들어갔다.',\n",
       "   'highlight_indices': '7,8'}],\n",
       " [{'index': 4,\n",
       "   'sentence': '컬러빌리지는 색채를 이용한 경관개선사업으로 사업완료에 따라 고소천사벽화마을과 자산마을은 알록달록 색깔 옷을 입었다.',\n",
       "   'highlight_indices': '49,53'}],\n",
       " [{'index': 5,\n",
       "   'sentence': '특히 자산마을 주택 70여 동은 동백꽃 색으로 새 단장을 마쳤다.',\n",
       "   'highlight_indices': '0,2;26,27'},\n",
       "  {'index': 6,\n",
       "   'sentence': '마을 옆을 지나는 해상케이블카에서 내려다보면 동백꽃 한 송이가 피어있는 모습으로 SNS 등을 통해 입소문을 타고 있다.',\n",
       "   'highlight_indices': '29,30'}],\n",
       " [{'index': 7,\n",
       "   'sentence': '고소천사벽화마을 주택 130여 동도 지붕은 동백꽃 색, 벽면은 파스텔 톤 색상으로 변신해 이국적인 분위기를 내고 있다.',\n",
       "   'highlight_indices': ''}],\n",
       " [{'index': 8,\n",
       "   'sentence': '마을 내 옹벽과 비탈면은 패턴벽화와 야간조명이 설치돼 포토존으로 인기를 끌고 있다.',\n",
       "   'highlight_indices': ''},\n",
       "  {'index': 9,\n",
       "   'sentence': '컬러빌리지 사업은 추진 전반에 마을 주민이 적극 참여했다는 점에서 좋은 평가를 받고 있다.',\n",
       "   'highlight_indices': ''}],\n",
       " [{'index': 10,\n",
       "   'sentence': '시는 사업대상이 사유시설인 만큼 계획단계부터 주민들의 의견을 들었다.',\n",
       "   'highlight_indices': ''},\n",
       "  {'index': 11,\n",
       "   'sentence': '사업 시행과 준공 과정에서도 주민들의 참여를 유도해 민관이 함께 만들어가는 경관사업의 좋은 사례를 만들었다.',\n",
       "   'highlight_indices': '33,35'}],\n",
       " [{'index': 12,\n",
       "   'sentence': '시 관계자는“컬러빌리지 사업은 주민들의 적극적인 관심과 참여가 만들어낸 값진 성과물”이라며“돌산공원, 해상케이블카, 남산공원, 돌산대교 등에서 빛과 색채로 물들어가는 여수의 낭만을 만끽하시기 바란다”고 말했다.',\n",
       "   'highlight_indices': ''}]]"
      ]
     },
     "execution_count": 62,
     "metadata": {},
     "output_type": "execute_result"
    }
   ],
   "source": [
    "news_df_final[\"text\"][1]"
   ]
  },
  {
   "cell_type": "code",
   "execution_count": 63,
   "metadata": {},
   "outputs": [
    {
     "data": {
      "text/plain": [
       "['8억 투입, 고소천사벽화·자산마을에 색채 입혀',\n",
       " '이성훈 sinawi@hanmail.net',\n",
       " '여수시는 원도심 일대에서 추진된 컬러빌리지 사업을 지난해 말 마무리하며 색채와 빛의 도시를 완성했다.',\n",
       " '컬러빌리지는 색채를 이용한 경관개선사업으로 사업완료에 따라 고소천사벽화마을과 자산마을은 알록달록 색깔 옷을 입었다.',\n",
       " '특히 자산마을 주택 70여 동은 동백꽃 색으로 새 단장을 마쳤다.',\n",
       " '고소천사벽화마을 주택 130여 동도 지붕은 동백꽃 색, 벽면은 파스텔 톤 색상으로 변신해 이국적인 분위기를 내고 있다.',\n",
       " '마을 내 옹벽과 비탈면은 패턴벽화와 야간조명이 설치돼 포토존으로 인기를 끌고 있다.',\n",
       " '시는 사업대상이 사유시설인 만큼 계획단계부터 주민들의 의견을 들었다.',\n",
       " '시 관계자는“컬러빌리지 사업은 주민들의 적극적인 관심과 참여가 만들어낸 값진 성과물”이라며“돌산공원, 해상케이블카, 남산공원, 돌산대교 등에서 빛과 색채로 물들어가는 여수의 낭만을 만끽하시기 바란다”고 말했다.']"
      ]
     },
     "execution_count": 63,
     "metadata": {},
     "output_type": "execute_result"
    }
   ],
   "source": [
    "def to_list_str(text) -> List[str]:\n",
    "    result = []\n",
    "    for item in text:\n",
    "        if len(item) < 1: continue\n",
    "        result.append(item[0][\"sentence\"])\n",
    "    return result\n",
    "    \n",
    "# 예시\n",
    "to_list_str(news_df_final[\"text\"][1])"
   ]
  },
  {
   "cell_type": "code",
   "execution_count": 65,
   "metadata": {},
   "outputs": [
    {
     "name": "stderr",
     "output_type": "stream",
     "text": [
      "/tmp/ipykernel_52377/2113709001.py:1: SettingWithCopyWarning: \n",
      "A value is trying to be set on a copy of a slice from a DataFrame.\n",
      "Try using .loc[row_indexer,col_indexer] = value instead\n",
      "\n",
      "See the caveats in the documentation: https://pandas.pydata.org/pandas-docs/stable/user_guide/indexing.html#returning-a-view-versus-a-copy\n",
      "  news_df_final[\"text\"] = news_df_final[\"text\"].apply(lambda x: to_list_str(x))\n"
     ]
    },
    {
     "data": {
      "text/html": [
       "<div>\n",
       "<style scoped>\n",
       "    .dataframe tbody tr th:only-of-type {\n",
       "        vertical-align: middle;\n",
       "    }\n",
       "\n",
       "    .dataframe tbody tr th {\n",
       "        vertical-align: top;\n",
       "    }\n",
       "\n",
       "    .dataframe thead th {\n",
       "        text-align: right;\n",
       "    }\n",
       "</style>\n",
       "<table border=\"1\" class=\"dataframe\">\n",
       "  <thead>\n",
       "    <tr style=\"text-align: right;\">\n",
       "      <th></th>\n",
       "      <th>id</th>\n",
       "      <th>char_count</th>\n",
       "      <th>title</th>\n",
       "      <th>text</th>\n",
       "      <th>extractive</th>\n",
       "      <th>abstractive</th>\n",
       "    </tr>\n",
       "  </thead>\n",
       "  <tbody>\n",
       "    <tr>\n",
       "      <th>0</th>\n",
       "      <td>290741778</td>\n",
       "      <td>927</td>\n",
       "      <td>논 타작물 재배, 2월 말까지 신청하세요</td>\n",
       "      <td>[ha당 조사료 400만원…작물별 차등 지원, 이성훈 sinawi@hanmail.n...</td>\n",
       "      <td>[2, 3, 10]</td>\n",
       "      <td>[전라남도가 쌀 과잉문제를 근본적으로 해결하기 위해 올해부터 벼를 심었던 논에 벼 ...</td>\n",
       "    </tr>\n",
       "    <tr>\n",
       "      <th>1</th>\n",
       "      <td>290741792</td>\n",
       "      <td>764</td>\n",
       "      <td>여수시, 컬러빌리지 마무리...‘색채와 빛’도시 완성</td>\n",
       "      <td>[8억 투입, 고소천사벽화·자산마을에 색채 입혀, 이성훈 sinawi@hanmail...</td>\n",
       "      <td>[2, 4, 11]</td>\n",
       "      <td>[여수시는 컬러빌리지 사업에 8억원을 투입하여 ‘색채와 빛’ 도시를 완성하여 고소천...</td>\n",
       "    </tr>\n",
       "    <tr>\n",
       "      <th>2</th>\n",
       "      <td>290741793</td>\n",
       "      <td>1066</td>\n",
       "      <td>“새해 정기 받고 올해는 반드시 일내자!”</td>\n",
       "      <td>[전남드래곤즈 해맞이 다짐…선수 영입 활발, 이성훈 sinawi@hanmail.ne...</td>\n",
       "      <td>[3, 5, 7]</td>\n",
       "      <td>[전남드래곤즈 임직원과 선수단이 4일 구봉산 정상에 올라 일출을 보며 2018년 구...</td>\n",
       "    </tr>\n",
       "    <tr>\n",
       "      <th>3</th>\n",
       "      <td>290741794</td>\n",
       "      <td>746</td>\n",
       "      <td>농업인 역량 강화, 새해 실용교육 실시</td>\n",
       "      <td>[11~24일, 매실·감·참다래 등 지역특화작목, 이성훈 sinawi@hanmail...</td>\n",
       "      <td>[2, 3, 4]</td>\n",
       "      <td>[광양시는 농업인들의 경쟁력을 높이고, 소득안정을 위해 매실·감·참다래 등 지역특화...</td>\n",
       "    </tr>\n",
       "    <tr>\n",
       "      <th>4</th>\n",
       "      <td>290741797</td>\n",
       "      <td>978</td>\n",
       "      <td>타이완 크루즈관광객 4천여명‘전남’온다</td>\n",
       "      <td>[홍콩 크루즈선사‘아쿠아리우스’ 4, 6월 여수항 입항, 이성훈 sinawi@han...</td>\n",
       "      <td>[3, 7, 4]</td>\n",
       "      <td>[올해 4월과 6월 두 차례에 걸쳐 타이완의 크루즈 관광객 4000여명이 여수에 입...</td>\n",
       "    </tr>\n",
       "  </tbody>\n",
       "</table>\n",
       "</div>"
      ],
      "text/plain": [
       "          id  char_count                          title  \\\n",
       "0  290741778         927         논 타작물 재배, 2월 말까지 신청하세요   \n",
       "1  290741792         764  여수시, 컬러빌리지 마무리...‘색채와 빛’도시 완성   \n",
       "2  290741793        1066        “새해 정기 받고 올해는 반드시 일내자!”   \n",
       "3  290741794         746          농업인 역량 강화, 새해 실용교육 실시   \n",
       "4  290741797         978          타이완 크루즈관광객 4천여명‘전남’온다   \n",
       "\n",
       "                                                text  extractive  \\\n",
       "0  [ha당 조사료 400만원…작물별 차등 지원, 이성훈 sinawi@hanmail.n...  [2, 3, 10]   \n",
       "1  [8억 투입, 고소천사벽화·자산마을에 색채 입혀, 이성훈 sinawi@hanmail...  [2, 4, 11]   \n",
       "2  [전남드래곤즈 해맞이 다짐…선수 영입 활발, 이성훈 sinawi@hanmail.ne...   [3, 5, 7]   \n",
       "3  [11~24일, 매실·감·참다래 등 지역특화작목, 이성훈 sinawi@hanmail...   [2, 3, 4]   \n",
       "4  [홍콩 크루즈선사‘아쿠아리우스’ 4, 6월 여수항 입항, 이성훈 sinawi@han...   [3, 7, 4]   \n",
       "\n",
       "                                         abstractive  \n",
       "0  [전라남도가 쌀 과잉문제를 근본적으로 해결하기 위해 올해부터 벼를 심었던 논에 벼 ...  \n",
       "1  [여수시는 컬러빌리지 사업에 8억원을 투입하여 ‘색채와 빛’ 도시를 완성하여 고소천...  \n",
       "2  [전남드래곤즈 임직원과 선수단이 4일 구봉산 정상에 올라 일출을 보며 2018년 구...  \n",
       "3  [광양시는 농업인들의 경쟁력을 높이고, 소득안정을 위해 매실·감·참다래 등 지역특화...  \n",
       "4  [올해 4월과 6월 두 차례에 걸쳐 타이완의 크루즈 관광객 4000여명이 여수에 입...  "
      ]
     },
     "execution_count": 65,
     "metadata": {},
     "output_type": "execute_result"
    }
   ],
   "source": [
    "news_df_final[\"text\"] = news_df_final[\"text\"].apply(lambda x: to_list_str(x))\n",
    "news_df_final.head()"
   ]
  },
  {
   "cell_type": "markdown",
   "metadata": {},
   "source": [
    "결과 확인"
   ]
  },
  {
   "cell_type": "code",
   "execution_count": 68,
   "metadata": {},
   "outputs": [
    {
     "data": {
      "text/plain": [
       "['11~24일, 매실·감·참다래 등 지역특화작목',\n",
       " '이성훈 sinawi@hanmail.net',\n",
       " '광양시는 오는 11일부터 24일까지 농업인교육관과 읍면동 회의실에서 농업인 1050명을 대상으로 새해 농업인 실용교육을 실시한다.',\n",
       " '이번 교육은 농산물 FTA 확대와 경기침체 등 국내외 농업여건의 어려워짐에 따라 농업인들의 경쟁력을 높이고, 소득안정을 위해 마련됐다.',\n",
       " '교육은 시의 특화작목인 감, 참다래, 생강, 매실 등에 대한 저비용 생산과 고품질 재배기술을 중점적으로 다룬다.',\n",
       " '시는 그동안 주요소득작목을 중심으로 연중 체계적인 교육과 현장학습을 통해 농업인들의 전문기술 향상을 이끌어 내고 있다.',\n",
       " '이정헌 기술지원팀장은“이번 교육은 국립특작과학원과 전남농업기술원 등에서 전문가를 초빙해 품목별로 내실 있는 교육으로 진행된다”며,“많은 농가에서 이번 교육에 참여해 유익한 농업기술정보를 가져가는 시간이 되었으면 한다”고 말했다.',\n",
       " '자세한 교육 일정은 광양시 농업기술센터 홈페이지 농업인교육에서 확인할 수 있으며, 교육을 희망하는 농업인은 기술보급과 기술지원팀(797-3323)이나 읍면동 농업인상담소로 문의하면 된다.']"
      ]
     },
     "execution_count": 68,
     "metadata": {},
     "output_type": "execute_result"
    }
   ],
   "source": [
    "news_df_final[\"text\"][3]"
   ]
  },
  {
   "cell_type": "markdown",
   "metadata": {},
   "source": [
    "## 2) pd.DataFrame -> arrow"
   ]
  },
  {
   "cell_type": "code",
   "execution_count": null,
   "metadata": {},
   "outputs": [],
   "source": [
    "# import pyarrow as pa\n",
    "# import pyarrow.parquet as pq"
   ]
  },
  {
   "cell_type": "code",
   "execution_count": 69,
   "metadata": {},
   "outputs": [],
   "source": [
    "news_table = pa.Table.from_pandas(news_df_final)"
   ]
  },
  {
   "cell_type": "code",
   "execution_count": null,
   "metadata": {},
   "outputs": [],
   "source": [
    "news_table"
   ]
  },
  {
   "cell_type": "markdown",
   "metadata": {},
   "source": [
    "\"aihub_news.parquet\" 로 저장"
   ]
  },
  {
   "cell_type": "code",
   "execution_count": 73,
   "metadata": {},
   "outputs": [],
   "source": [
    "pq.write_table(news_table, '/opt/ml/dataset/Training/train.parquet')  # preserve_index=False (omit index)"
   ]
  },
  {
   "cell_type": "markdown",
   "metadata": {},
   "source": [
    "파일 읽어오기"
   ]
  },
  {
   "cell_type": "code",
   "execution_count": 74,
   "metadata": {},
   "outputs": [],
   "source": [
    "reloaded_news_table = pq.read_table('/opt/ml/dataset/Training/train.parquet')"
   ]
  },
  {
   "cell_type": "code",
   "execution_count": 75,
   "metadata": {},
   "outputs": [
    {
     "data": {
      "text/plain": [
       "pyarrow.lib.Table"
      ]
     },
     "execution_count": 75,
     "metadata": {},
     "output_type": "execute_result"
    }
   ],
   "source": [
    "type(reloaded_news_table)  # pyarrow.lib.Table"
   ]
  },
  {
   "cell_type": "markdown",
   "metadata": {},
   "source": [
    "# validation set도 동일하게 진행"
   ]
  },
  {
   "cell_type": "code",
   "execution_count": 3,
   "metadata": {},
   "outputs": [],
   "source": [
    "with open(\"/opt/ml/dataset/Validation/valid_original.json\", \"r\") as f:\n",
    "    data = json.load(f)\n",
    "    data = data[\"documents\"]\n",
    "\n",
    "with open(\"/opt/ml/dataset/Validation/valid.json\", \"w\") as f:  # 새로 저장\n",
    "    json.dump(data, f, indent=4, ensure_ascii=False)  # 한글이라 ensure_ascii=False"
   ]
  },
  {
   "cell_type": "code",
   "execution_count": 4,
   "metadata": {},
   "outputs": [
    {
     "data": {
      "text/html": [
       "<div>\n",
       "<style scoped>\n",
       "    .dataframe tbody tr th:only-of-type {\n",
       "        vertical-align: middle;\n",
       "    }\n",
       "\n",
       "    .dataframe tbody tr th {\n",
       "        vertical-align: top;\n",
       "    }\n",
       "\n",
       "    .dataframe thead th {\n",
       "        text-align: right;\n",
       "    }\n",
       "</style>\n",
       "<table border=\"1\" class=\"dataframe\">\n",
       "  <thead>\n",
       "    <tr style=\"text-align: right;\">\n",
       "      <th></th>\n",
       "      <th>id</th>\n",
       "      <th>category</th>\n",
       "      <th>media_type</th>\n",
       "      <th>media_sub_type</th>\n",
       "      <th>media_name</th>\n",
       "      <th>size</th>\n",
       "      <th>char_count</th>\n",
       "      <th>publish_date</th>\n",
       "      <th>title</th>\n",
       "      <th>text</th>\n",
       "      <th>annotator_id</th>\n",
       "      <th>document_quality_scores</th>\n",
       "      <th>extractive</th>\n",
       "      <th>abstractive</th>\n",
       "    </tr>\n",
       "  </thead>\n",
       "  <tbody>\n",
       "    <tr>\n",
       "      <th>0</th>\n",
       "      <td>340626877</td>\n",
       "      <td>정치</td>\n",
       "      <td>online</td>\n",
       "      <td>경제지</td>\n",
       "      <td>한국경제</td>\n",
       "      <td>medium</td>\n",
       "      <td>1111</td>\n",
       "      <td>2019-04-08 17:43:00</td>\n",
       "      <td>文대통령 \"5G는 4차산업혁명 시대의 고속도로\"</td>\n",
       "      <td>[[{'index': 0, 'sentence': '[ 박재원 기자 ] '대한민국 5...</td>\n",
       "      <td>4209</td>\n",
       "      <td>{'readable': 5, 'accurate': 5, 'informative': ...</td>\n",
       "      <td>[0, 1, 3]</td>\n",
       "      <td>[8일 서울에서 열린 5G플러스 전략발표에 참석한 문재인 대통령은 5G는 대한민국 ...</td>\n",
       "    </tr>\n",
       "    <tr>\n",
       "      <th>1</th>\n",
       "      <td>340626896</td>\n",
       "      <td>종합</td>\n",
       "      <td>online</td>\n",
       "      <td>경제지</td>\n",
       "      <td>한국경제</td>\n",
       "      <td>small</td>\n",
       "      <td>904</td>\n",
       "      <td>2019-04-08 17:41:00</td>\n",
       "      <td>\"손학규 물러나라\"...바른계, 최고위 회의 '보이콧'</td>\n",
       "      <td>[[{'index': 0, 'sentence': '] 당 지도부 퇴진을 놓고 바른미...</td>\n",
       "      <td>2438</td>\n",
       "      <td>{'readable': 4, 'accurate': 4, 'informative': ...</td>\n",
       "      <td>[2, 1, 6]</td>\n",
       "      <td>[8일 바른미래당 최고의원 회의에 하태경 의원 등 5명의 최고의원이 지도부 퇴진을 ...</td>\n",
       "    </tr>\n",
       "    <tr>\n",
       "      <th>2</th>\n",
       "      <td>340626904</td>\n",
       "      <td>IT,과학</td>\n",
       "      <td>online</td>\n",
       "      <td>경제지</td>\n",
       "      <td>한국경제</td>\n",
       "      <td>medium</td>\n",
       "      <td>1104</td>\n",
       "      <td>2019-04-08 17:44:00</td>\n",
       "      <td>\"마치 한 장소처럼\" ... 5G로 서울·부산·광주 원격협연</td>\n",
       "      <td>[[{'index': 0, 'sentence': '[ 홍윤정 기자 ] 8일 서울 올...</td>\n",
       "      <td>178</td>\n",
       "      <td>{'readable': 5, 'accurate': 5, 'informative': ...</td>\n",
       "      <td>[1, 5, 8]</td>\n",
       "      <td>[지난 3일 한국이 세계 첫 5세대 이동통신 서비스를 보편화한 것을 축하하는 '코리...</td>\n",
       "    </tr>\n",
       "    <tr>\n",
       "      <th>3</th>\n",
       "      <td>340627450</td>\n",
       "      <td>사회</td>\n",
       "      <td>online</td>\n",
       "      <td>경제지</td>\n",
       "      <td>한국경제</td>\n",
       "      <td>small</td>\n",
       "      <td>740</td>\n",
       "      <td>2019-04-08 17:48:00</td>\n",
       "      <td>\"이웃도 모르는데, 이게 서울 미래냐\"...'고층 재개발 요구' 작심 비판한 박원순</td>\n",
       "      <td>[[{'index': 0, 'sentence': '] 박원순 서울시장(사진)이 8일...</td>\n",
       "      <td>1629</td>\n",
       "      <td>{'readable': 3, 'accurate': 3, 'informative': ...</td>\n",
       "      <td>[0, 1, 2]</td>\n",
       "      <td>[박원순 서울시장은 8일 서울시청에서 열린 '골목길 재생 시민 정책 대화'에 참석하...</td>\n",
       "    </tr>\n",
       "    <tr>\n",
       "      <th>4</th>\n",
       "      <td>340627465</td>\n",
       "      <td>경제</td>\n",
       "      <td>online</td>\n",
       "      <td>경제지</td>\n",
       "      <td>한국경제</td>\n",
       "      <td>medium</td>\n",
       "      <td>1389</td>\n",
       "      <td>2019-04-08 17:49:00</td>\n",
       "      <td>\"SK·알파벳 벤치마킹해야\"...KB운용, KMH에 주주서한</td>\n",
       "      <td>[[{'index': 0, 'sentence': '[ 임근호 기자 ] \"SK(주)와...</td>\n",
       "      <td>2411</td>\n",
       "      <td>{'readable': 4, 'accurate': 3, 'informative': ...</td>\n",
       "      <td>[1, 3, 4]</td>\n",
       "      <td>[주주가치 포커스를 운용하는 KB자산운용이  SK와 알파벳(구글 지주회사)의 모범적...</td>\n",
       "    </tr>\n",
       "  </tbody>\n",
       "</table>\n",
       "</div>"
      ],
      "text/plain": [
       "          id category media_type media_sub_type media_name    size  \\\n",
       "0  340626877       정치     online            경제지       한국경제  medium   \n",
       "1  340626896       종합     online            경제지       한국경제   small   \n",
       "2  340626904    IT,과학     online            경제지       한국경제  medium   \n",
       "3  340627450       사회     online            경제지       한국경제   small   \n",
       "4  340627465       경제     online            경제지       한국경제  medium   \n",
       "\n",
       "   char_count         publish_date  \\\n",
       "0        1111  2019-04-08 17:43:00   \n",
       "1         904  2019-04-08 17:41:00   \n",
       "2        1104  2019-04-08 17:44:00   \n",
       "3         740  2019-04-08 17:48:00   \n",
       "4        1389  2019-04-08 17:49:00   \n",
       "\n",
       "                                            title  \\\n",
       "0                      文대통령 \"5G는 4차산업혁명 시대의 고속도로\"   \n",
       "1                  \"손학규 물러나라\"...바른계, 최고위 회의 '보이콧'   \n",
       "2               \"마치 한 장소처럼\" ... 5G로 서울·부산·광주 원격협연   \n",
       "3  \"이웃도 모르는데, 이게 서울 미래냐\"...'고층 재개발 요구' 작심 비판한 박원순   \n",
       "4               \"SK·알파벳 벤치마킹해야\"...KB운용, KMH에 주주서한   \n",
       "\n",
       "                                                text  annotator_id  \\\n",
       "0  [[{'index': 0, 'sentence': '[ 박재원 기자 ] '대한민국 5...          4209   \n",
       "1  [[{'index': 0, 'sentence': '] 당 지도부 퇴진을 놓고 바른미...          2438   \n",
       "2  [[{'index': 0, 'sentence': '[ 홍윤정 기자 ] 8일 서울 올...           178   \n",
       "3  [[{'index': 0, 'sentence': '] 박원순 서울시장(사진)이 8일...          1629   \n",
       "4  [[{'index': 0, 'sentence': '[ 임근호 기자 ] \"SK(주)와...          2411   \n",
       "\n",
       "                             document_quality_scores extractive  \\\n",
       "0  {'readable': 5, 'accurate': 5, 'informative': ...  [0, 1, 3]   \n",
       "1  {'readable': 4, 'accurate': 4, 'informative': ...  [2, 1, 6]   \n",
       "2  {'readable': 5, 'accurate': 5, 'informative': ...  [1, 5, 8]   \n",
       "3  {'readable': 3, 'accurate': 3, 'informative': ...  [0, 1, 2]   \n",
       "4  {'readable': 4, 'accurate': 3, 'informative': ...  [1, 3, 4]   \n",
       "\n",
       "                                         abstractive  \n",
       "0  [8일 서울에서 열린 5G플러스 전략발표에 참석한 문재인 대통령은 5G는 대한민국 ...  \n",
       "1  [8일 바른미래당 최고의원 회의에 하태경 의원 등 5명의 최고의원이 지도부 퇴진을 ...  \n",
       "2  [지난 3일 한국이 세계 첫 5세대 이동통신 서비스를 보편화한 것을 축하하는 '코리...  \n",
       "3  [박원순 서울시장은 8일 서울시청에서 열린 '골목길 재생 시민 정책 대화'에 참석하...  \n",
       "4  [주주가치 포커스를 운용하는 KB자산운용이  SK와 알파벳(구글 지주회사)의 모범적...  "
      ]
     },
     "execution_count": 4,
     "metadata": {},
     "output_type": "execute_result"
    }
   ],
   "source": [
    "val_news_df = pd.read_json(\"/opt/ml/dataset/Validation/valid.json\")\n",
    "val_news_df.head()"
   ]
  },
  {
   "cell_type": "code",
   "execution_count": 5,
   "metadata": {},
   "outputs": [
    {
     "name": "stdout",
     "output_type": "stream",
     "text": [
      "<class 'pandas.core.frame.DataFrame'>\n",
      "RangeIndex: 30122 entries, 0 to 30121\n",
      "Data columns (total 14 columns):\n",
      " #   Column                   Non-Null Count  Dtype \n",
      "---  ------                   --------------  ----- \n",
      " 0   id                       30122 non-null  int64 \n",
      " 1   category                 30122 non-null  object\n",
      " 2   media_type               30122 non-null  object\n",
      " 3   media_sub_type           30122 non-null  object\n",
      " 4   media_name               30122 non-null  object\n",
      " 5   size                     30122 non-null  object\n",
      " 6   char_count               30122 non-null  int64 \n",
      " 7   publish_date             30122 non-null  object\n",
      " 8   title                    30122 non-null  object\n",
      " 9   text                     30122 non-null  object\n",
      " 10  annotator_id             30122 non-null  int64 \n",
      " 11  document_quality_scores  30122 non-null  object\n",
      " 12  extractive               30122 non-null  object\n",
      " 13  abstractive              30122 non-null  object\n",
      "dtypes: int64(3), object(11)\n",
      "memory usage: 3.2+ MB\n"
     ]
    }
   ],
   "source": [
    "val_news_df.info()"
   ]
  },
  {
   "cell_type": "code",
   "execution_count": 12,
   "metadata": {},
   "outputs": [
    {
     "data": {
      "text/plain": [
       "<bound method IndexOpsMixin.nunique of 0        340626877\n",
       "1        340626896\n",
       "2        340626904\n",
       "3        340627450\n",
       "4        340627465\n",
       "           ...    \n",
       "30117    350851474\n",
       "30118    350851925\n",
       "30119    350854748\n",
       "30120    350857648\n",
       "30121    350861693\n",
       "Name: id, Length: 30122, dtype: int64>"
      ]
     },
     "execution_count": 12,
     "metadata": {},
     "output_type": "execute_result"
    }
   ],
   "source": [
    "val_news_df[\"id\"].nunique  # 30122\n",
    "# val_news_df[\"title\"].nunique  # 30122\n",
    "# val_news_df[\"text\"].nunique  # 30122\n",
    "# val_news_df[\"extractive\"].unique  # 30122 - ㅇㄱㄹㅇ?\n",
    "# val_news_df[\"abstractive\"].nunique  # 30122"
   ]
  },
  {
   "cell_type": "code",
   "execution_count": 13,
   "metadata": {},
   "outputs": [
    {
     "data": {
      "text/html": [
       "<div>\n",
       "<style scoped>\n",
       "    .dataframe tbody tr th:only-of-type {\n",
       "        vertical-align: middle;\n",
       "    }\n",
       "\n",
       "    .dataframe tbody tr th {\n",
       "        vertical-align: top;\n",
       "    }\n",
       "\n",
       "    .dataframe thead th {\n",
       "        text-align: right;\n",
       "    }\n",
       "</style>\n",
       "<table border=\"1\" class=\"dataframe\">\n",
       "  <thead>\n",
       "    <tr style=\"text-align: right;\">\n",
       "      <th></th>\n",
       "      <th>id</th>\n",
       "      <th>char_count</th>\n",
       "      <th>title</th>\n",
       "      <th>text</th>\n",
       "      <th>extractive</th>\n",
       "      <th>abstractive</th>\n",
       "    </tr>\n",
       "  </thead>\n",
       "  <tbody>\n",
       "    <tr>\n",
       "      <th>0</th>\n",
       "      <td>340626877</td>\n",
       "      <td>1111</td>\n",
       "      <td>文대통령 \"5G는 4차산업혁명 시대의 고속도로\"</td>\n",
       "      <td>[[{'index': 0, 'sentence': '[ 박재원 기자 ] '대한민국 5...</td>\n",
       "      <td>[0, 1, 3]</td>\n",
       "      <td>[8일 서울에서 열린 5G플러스 전략발표에 참석한 문재인 대통령은 5G는 대한민국 ...</td>\n",
       "    </tr>\n",
       "    <tr>\n",
       "      <th>1</th>\n",
       "      <td>340626896</td>\n",
       "      <td>904</td>\n",
       "      <td>\"손학규 물러나라\"...바른계, 최고위 회의 '보이콧'</td>\n",
       "      <td>[[{'index': 0, 'sentence': '] 당 지도부 퇴진을 놓고 바른미...</td>\n",
       "      <td>[2, 1, 6]</td>\n",
       "      <td>[8일 바른미래당 최고의원 회의에 하태경 의원 등 5명의 최고의원이 지도부 퇴진을 ...</td>\n",
       "    </tr>\n",
       "    <tr>\n",
       "      <th>2</th>\n",
       "      <td>340626904</td>\n",
       "      <td>1104</td>\n",
       "      <td>\"마치 한 장소처럼\" ... 5G로 서울·부산·광주 원격협연</td>\n",
       "      <td>[[{'index': 0, 'sentence': '[ 홍윤정 기자 ] 8일 서울 올...</td>\n",
       "      <td>[1, 5, 8]</td>\n",
       "      <td>[지난 3일 한국이 세계 첫 5세대 이동통신 서비스를 보편화한 것을 축하하는 '코리...</td>\n",
       "    </tr>\n",
       "    <tr>\n",
       "      <th>3</th>\n",
       "      <td>340627450</td>\n",
       "      <td>740</td>\n",
       "      <td>\"이웃도 모르는데, 이게 서울 미래냐\"...'고층 재개발 요구' 작심 비판한 박원순</td>\n",
       "      <td>[[{'index': 0, 'sentence': '] 박원순 서울시장(사진)이 8일...</td>\n",
       "      <td>[0, 1, 2]</td>\n",
       "      <td>[박원순 서울시장은 8일 서울시청에서 열린 '골목길 재생 시민 정책 대화'에 참석하...</td>\n",
       "    </tr>\n",
       "    <tr>\n",
       "      <th>4</th>\n",
       "      <td>340627465</td>\n",
       "      <td>1389</td>\n",
       "      <td>\"SK·알파벳 벤치마킹해야\"...KB운용, KMH에 주주서한</td>\n",
       "      <td>[[{'index': 0, 'sentence': '[ 임근호 기자 ] \"SK(주)와...</td>\n",
       "      <td>[1, 3, 4]</td>\n",
       "      <td>[주주가치 포커스를 운용하는 KB자산운용이  SK와 알파벳(구글 지주회사)의 모범적...</td>\n",
       "    </tr>\n",
       "  </tbody>\n",
       "</table>\n",
       "</div>"
      ],
      "text/plain": [
       "          id  char_count                                           title  \\\n",
       "0  340626877        1111                      文대통령 \"5G는 4차산업혁명 시대의 고속도로\"   \n",
       "1  340626896         904                  \"손학규 물러나라\"...바른계, 최고위 회의 '보이콧'   \n",
       "2  340626904        1104               \"마치 한 장소처럼\" ... 5G로 서울·부산·광주 원격협연   \n",
       "3  340627450         740  \"이웃도 모르는데, 이게 서울 미래냐\"...'고층 재개발 요구' 작심 비판한 박원순   \n",
       "4  340627465        1389               \"SK·알파벳 벤치마킹해야\"...KB운용, KMH에 주주서한   \n",
       "\n",
       "                                                text extractive  \\\n",
       "0  [[{'index': 0, 'sentence': '[ 박재원 기자 ] '대한민국 5...  [0, 1, 3]   \n",
       "1  [[{'index': 0, 'sentence': '] 당 지도부 퇴진을 놓고 바른미...  [2, 1, 6]   \n",
       "2  [[{'index': 0, 'sentence': '[ 홍윤정 기자 ] 8일 서울 올...  [1, 5, 8]   \n",
       "3  [[{'index': 0, 'sentence': '] 박원순 서울시장(사진)이 8일...  [0, 1, 2]   \n",
       "4  [[{'index': 0, 'sentence': '[ 임근호 기자 ] \"SK(주)와...  [1, 3, 4]   \n",
       "\n",
       "                                         abstractive  \n",
       "0  [8일 서울에서 열린 5G플러스 전략발표에 참석한 문재인 대통령은 5G는 대한민국 ...  \n",
       "1  [8일 바른미래당 최고의원 회의에 하태경 의원 등 5명의 최고의원이 지도부 퇴진을 ...  \n",
       "2  [지난 3일 한국이 세계 첫 5세대 이동통신 서비스를 보편화한 것을 축하하는 '코리...  \n",
       "3  [박원순 서울시장은 8일 서울시청에서 열린 '골목길 재생 시민 정책 대화'에 참석하...  \n",
       "4  [주주가치 포커스를 운용하는 KB자산운용이  SK와 알파벳(구글 지주회사)의 모범적...  "
      ]
     },
     "execution_count": 13,
     "metadata": {},
     "output_type": "execute_result"
    }
   ],
   "source": [
    "# 필요한 정보만\n",
    "val_news_df_final = val_news_df[['id', 'char_count', 'title', 'text', 'extractive', 'abstractive']]\n",
    "val_news_df_final.head()"
   ]
  },
  {
   "cell_type": "code",
   "execution_count": 16,
   "metadata": {},
   "outputs": [
    {
     "data": {
      "text/plain": [
       "['[ 안효주 기자 ] 수천 명의 사람이 요가복을 입고 동시에 천천히 온몸을 구부리는 모습.',\n",
       " '이번 요가말라 축제는 롯데백화점이 주최한다.',\n",
       " '요가말라 축제에선 요가 전문가들이 고난도의 요가 공연을 선보인다.',\n",
       " \"롯데백화점의 편집숍 '피트니스 스퀘어'와 '만두카' 등 요가 관련 24개 브랜드가 참여하는 플리마켓도 함께 열린다.\",\n",
       " '행사를 주최하는 롯데백화점은 라이프스타일 변화에 맞춰 애슬레저 상품군을 대폭 확대하고 있다.']"
      ]
     },
     "execution_count": 16,
     "metadata": {},
     "output_type": "execute_result"
    }
   ],
   "source": [
    "def to_list_str(text) -> List[str]:\n",
    "    result = []\n",
    "    for item in text:\n",
    "        if len(item) < 1: continue\n",
    "        result.append(item[0][\"sentence\"])\n",
    "    return result\n",
    "    \n",
    "# 예시\n",
    "to_list_str(val_news_df_final[\"text\"][100])"
   ]
  },
  {
   "cell_type": "code",
   "execution_count": null,
   "metadata": {},
   "outputs": [],
   "source": [
    "val_news_df_final[\"text\"] = val_news_df_final[\"text\"].apply(lambda x: to_list_str(x))\n",
    "val_news_df_final.head()"
   ]
  },
  {
   "cell_type": "code",
   "execution_count": null,
   "metadata": {},
   "outputs": [],
   "source": [
    "val_news_df_final[\"text\"][3]"
   ]
  },
  {
   "cell_type": "code",
   "execution_count": null,
   "metadata": {},
   "outputs": [],
   "source": [
    "val_news_table = pa.Table.from_pandas(val_news_df_final)"
   ]
  },
  {
   "cell_type": "code",
   "execution_count": null,
   "metadata": {},
   "outputs": [],
   "source": [
    "pq.write_table(val_news_table, '/opt/ml/dataset/Validation/valid.parquet')  # preserve_index=False (omit index)"
   ]
  }
 ],
 "metadata": {
  "interpreter": {
   "hash": "d4d1e4263499bec80672ea0156c357c1ee493ec2b1c70f0acce89fc37c4a6abe"
  },
  "kernelspec": {
   "display_name": "Python 3.8.5 64-bit ('base': conda)",
   "language": "python",
   "name": "python3"
  },
  "language_info": {
   "codemirror_mode": {
    "name": "ipython",
    "version": 3
   },
   "file_extension": ".py",
   "mimetype": "text/x-python",
   "name": "python",
   "nbconvert_exporter": "python",
   "pygments_lexer": "ipython3",
   "version": "3.8.12"
  },
  "orig_nbformat": 4
 },
 "nbformat": 4,
 "nbformat_minor": 2
}
