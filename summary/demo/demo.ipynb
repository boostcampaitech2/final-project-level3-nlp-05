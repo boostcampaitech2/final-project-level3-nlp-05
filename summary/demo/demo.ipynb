{
 "cells": [
  {
   "cell_type": "code",
   "execution_count": 1,
   "id": "b454ac26-9100-46b0-a9d7-e14de2324db6",
   "metadata": {},
   "outputs": [],
   "source": [
    "import json\n",
    "import pandas as pd\n",
    "from IPython.core.display import display, HTML"
   ]
  },
  {
   "cell_type": "code",
   "execution_count": 2,
   "id": "525083fa-ac3a-4f69-8477-cfa3d89d1757",
   "metadata": {},
   "outputs": [],
   "source": [
    "class Demo:\n",
    "    \n",
    "    style = \"\"\"mark {\n",
    "background: linear-gradient(104deg, rgba(130, 255, 173,0) 0.9%, rgba(130, 255, 173,1.25) 2.4%, rgba(130, 255, 173,0.5) 5.8%, rgba(130, 255, 173,0.1) 93%, rgba(130, 255, 173,0.7) 96%, rgba(130, 255, 1732,0) 98%), linear-gradient(183deg, rgba(130, 255, 173,0) 0%, rgba(130, 255, 173,0.3) 7.9%, rgba(130, 255, 173,0) 15%);\n",
    "-webkit-box-decoration-break: clone;\n",
    "margin: 0;\n",
    "border-radius: 5px;\n",
    "}\"\"\"\n",
    "    \n",
    "    def __init__(self, source, result):\n",
    "        self.source_df = pd.read_json(source).drop_duplicates(subset=\"id\").reset_index(drop=True)\n",
    "        self.result_df = pd.read_json(result).drop_duplicates(subset=\"id\").reset_index(drop=True)\n",
    "        \n",
    "        self.merged_df = pd.merge(self.source_df, self.result_df, on=\"id\", suffixes=('', '_y'))\n",
    "        self.merged_df.drop(self.merged_df.filter(regex='_y$').columns.tolist(), axis=1, inplace=True)\n",
    "        \n",
    "    def summary_display(self, idx):\n",
    "    \n",
    "        html = \"<style>\" + self.style + \"</style><div class='highlight'>\"\n",
    "\n",
    "        paragraphs = self.merged_df.loc[idx, \"text\"]\n",
    "        highlight_ids = self.merged_df.loc[idx, \"extract_ids\"]\n",
    "        summary = self.merged_df.loc[idx, \"summary\"]\n",
    "\n",
    "        sent_id = 0\n",
    "\n",
    "        html += \"<p><b>\" + summary + \"</b></p>\"\n",
    "\n",
    "        html += \"<p>\" + str(highlight_ids) + \"</p>\"\n",
    "\n",
    "        for paragraph in paragraphs:\n",
    "            html += \"<p>\"\n",
    "            for sent in paragraph:\n",
    "                html += \"<sup>\" + str(sent_id) + \"</sup>\"\n",
    "                if highlight_ids is not None and sent_id in highlight_ids:\n",
    "                    html += \"<mark>\" + sent[\"sentence\"] + \"</mark>\"\n",
    "                else:\n",
    "                    html += sent[\"sentence\"]\n",
    "                html += \" \"\n",
    "                sent_id += 1\n",
    "            html += \"</p>\"\n",
    "        html += \"</div>\"\n",
    "\n",
    "        display(HTML(html))\n",
    "        "
   ]
  },
  {
   "cell_type": "code",
   "execution_count": 3,
   "id": "1b4e8fb6-5185-49d1-a69b-3d4e9a1637a2",
   "metadata": {},
   "outputs": [],
   "source": [
    "SOURCE_FILE = \"results/cluster_for_summary_20211216.json\"\n",
    "RESULT_FILE = \"results/summary_20211216_beam.json\"\n",
    "\n",
    "demo = Demo(SOURCE_FILE, RESULT_FILE)"
   ]
  },
  {
   "cell_type": "code",
   "execution_count": 4,
   "id": "a6d81819-853c-4f8d-b6d9-4830dcb743ae",
   "metadata": {},
   "outputs": [
    {
     "data": {
      "text/html": [
       "<style>mark {\n",
       "background: linear-gradient(104deg, rgba(130, 255, 173,0) 0.9%, rgba(130, 255, 173,1.25) 2.4%, rgba(130, 255, 173,0.5) 5.8%, rgba(130, 255, 173,0.1) 93%, rgba(130, 255, 173,0.7) 96%, rgba(130, 255, 1732,0) 98%), linear-gradient(183deg, rgba(130, 255, 173,0) 0%, rgba(130, 255, 173,0.3) 7.9%, rgba(130, 255, 173,0) 15%);\n",
       "-webkit-box-decoration-break: clone;\n",
       "margin: 0;\n",
       "border-radius: 5px;\n",
       "}</style><div class='highlight'><p><b>16일 서울고등법원 제13형사부최수환 부장판사는 정일훈 등 8명의 마약류 관리에 관한 법률 위반 혐의 항소심 선고 공판에서 장기간 대량의 대마를 조직적으로 밀수해 흡연한 혐의로 죄질이 좋지 않다면서도 다만 한 번의 흡연 시 23명이 가담했다고 밝혔다.</b></p><p>[1, 2, 3, 5, 9]</p><p><sup>0</sup>스타뉴스 서울고등법원이덕행 기자 </p><p><sup>1</sup><mark>상습 대마초 흡연 혐의로 1심에서 징역형을 선고받았던 비투비 출신 정일훈이 항소심서 집행유예로 풀려났다.</mark> </p><p><sup>2</sup><mark>16일 서울고등법원 제13형사부최수환 부장판사는 정일훈 등 8명의 마약류 관리에 관한 법률 위반 혐의 항소심 선고 공판을 진행했다.</mark> </p><p><sup>3</sup><mark>정일훈을 비롯해 1심서 실형을 선고받은 4명의 피고인은 죄수복 위에 방역 모자와 방역 비닐을 덮어쓰고 법정에 등장했다.</mark> <sup>4</sup>방청석에는 취재진과 피고인들의 가족을 비롯해 정일훈의 팬으로 추정되는 사람들도 함께 자리했다. </p><p><sup>5</sup><mark>앞선 결심공판에서 검찰은 정일훈에게 징역 2년에 추징금 1억 2663만 원을 구형했다.</mark> <sup>6</sup>재판부는 징역 2년의 실형을 선고했던 원심을 깨고 정일훈에게 징역 2년에 집행유예 3년을 선고했다. <sup>7</sup>또한 1억 2633만원의 추징금과 40시간의 약물치료 강의 수강도 명령했다. </p><p><sup>8</sup>재판부는 정일훈을 비롯한 피고인들에게 장기간 대량의 대마를 조직적으로 밀수해 흡연한 혐의로 죄질이 좋지 않다면서도 다만 한 번의 흡연 시 23명이 가담했다. <sup>9</sup><mark>4명 이상이 가담한 경우는 얼마 없다.</mark> <sup>10</sup>대마를 계획적으로 매수한 것이 아니라 그때그때 희망한 피고인들이 돈을 매수했다. <sup>11</sup>1회 구입량도 대부분 소량이다라고 설명했다. </p><p><sup>12</sup>이어 정일훈의 경우 기간이 비교적 길고 대마 매수와 흡연 빈도도 많다. <sup>13</sup>다만 대마를 판매유통시키는 영리 행위에 나서지 않았다. <sup>14</sup>대마 매매 및 흡연을 자의로 중단한 것으로 보이며 다른 전과가 없다. <sup>15</sup>또한 정신과 치료 온라인 강의 수강 등을 통해 재발 방지를 위해 노력하고 있다. <sup>16</sup>가족과 사회의 유대 관계가 재범 억제에 긍정적으로 보이고 가족들도 강한 선도의지를 보이는 점 6개월간의 구금을 통해 재범하지 않겠다고 다짐하는 점도 고려했다고 덧붙였다. </p><p><sup>17</sup>정일훈과 함께 구속된 다른 3명의 피고인 역시 집행유예를 선고받았다. <sup>18</sup>재판부는 피고인들 모두에게 집행유예를 선고했다. <sup>19</sup>재범 충동을 잘 이겨내길 바란다고 당부했다. </p><p><sup>20</sup>피고인들 모두가 집행유예를 선고받자 방청석에 있던 피고인들의 가족들은 눈물을 흐느꼈다. <sup>21</sup>안도한듯 한숨을 내쉬는 사람도 찾아볼 수 있었다. </p><p><sup>22</sup>정일훈은 2016년 7월 5일부터 2019년 1월 9일까지 다른 피고인 7명과 공모해 161회에 걸쳐 1억 3000여만 원을 송금하고 대마 826g 등을 매수해 흡입한 혐의로 기소됐다. <sup>23</sup>마약 거래에는 암호화폐가 이용됐다. </p><p><sup>24</sup>지난 6월 1심 재판부는 정일훈에게 징역 2년의 실형과 1억 3300여만 원의 추징금을 선고했다. <sup>25</sup>그러나 정일훈 측은 실제 대마 구매 및 흡연 횟수 과다 추징금 관련 법리 오해 등을 이유로 들며 양형 부당을 주장 항소장을 제출했다. </p><p><sup>26</sup>정일훈은 항소심이 시작된 뒤 88차례에 걸쳐 재판부에 반성문을 제출하며 선처를 호소한 것으로 알려졌다. </p><p><sup>27</sup>한편 2012년 그룹 비투비로 데뷔한 정일훈은 이번 대마초 상습 흡연 혐의가 알려지며 지난해 12월 31일 팀에서 탈퇴했다. </p><p><sup>28</sup>이덕행 기자 </p><p><sup>29</sup>서울고등법원이덕행 기자 </p></div>"
      ],
      "text/plain": [
       "<IPython.core.display.HTML object>"
      ]
     },
     "metadata": {},
     "output_type": "display_data"
    }
   ],
   "source": [
    "idx = 4\n",
    "\n",
    "demo.summary_display(idx)"
   ]
  }
 ],
 "metadata": {
  "kernelspec": {
   "display_name": "Python 3",
   "language": "python",
   "name": "python3"
  },
  "language_info": {
   "codemirror_mode": {
    "name": "ipython",
    "version": 3
   },
   "file_extension": ".py",
   "mimetype": "text/x-python",
   "name": "python",
   "nbconvert_exporter": "python",
   "pygments_lexer": "ipython3",
   "version": "3.7.11"
  }
 },
 "nbformat": 4,
 "nbformat_minor": 5
}
